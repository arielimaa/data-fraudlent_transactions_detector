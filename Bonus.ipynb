{
 "cells": [
  {
   "cell_type": "markdown",
   "metadata": {},
   "source": [
    "# Bonus"
   ]
  },
  {
   "cell_type": "markdown",
   "metadata": {},
   "source": [
    "🎯 You are a Data Scientist for a bank. You are asked to develop a model that is able to detect at least 90% of fraudulent transactions. Go!"
   ]
  },
  {
   "cell_type": "markdown",
   "metadata": {},
   "source": [
    "👇 Load the player `creditcard.csv` dataset and display its first 5 rows."
   ]
  },
  {
   "cell_type": "code",
   "execution_count": 1,
   "metadata": {},
   "outputs": [],
   "source": [
    "import numpy as np\n",
    "import seaborn as sns"
   ]
  },
  {
   "cell_type": "code",
   "execution_count": 2,
   "metadata": {},
   "outputs": [
    {
     "data": {
      "text/html": [
       "<div>\n",
       "<style scoped>\n",
       "    .dataframe tbody tr th:only-of-type {\n",
       "        vertical-align: middle;\n",
       "    }\n",
       "\n",
       "    .dataframe tbody tr th {\n",
       "        vertical-align: top;\n",
       "    }\n",
       "\n",
       "    .dataframe thead th {\n",
       "        text-align: right;\n",
       "    }\n",
       "</style>\n",
       "<table border=\"1\" class=\"dataframe\">\n",
       "  <thead>\n",
       "    <tr style=\"text-align: right;\">\n",
       "      <th></th>\n",
       "      <th>V1</th>\n",
       "      <th>V2</th>\n",
       "      <th>V3</th>\n",
       "      <th>V4</th>\n",
       "      <th>V5</th>\n",
       "      <th>V6</th>\n",
       "      <th>V7</th>\n",
       "      <th>V8</th>\n",
       "      <th>V9</th>\n",
       "      <th>V10</th>\n",
       "      <th>...</th>\n",
       "      <th>V21</th>\n",
       "      <th>V22</th>\n",
       "      <th>V23</th>\n",
       "      <th>V24</th>\n",
       "      <th>V25</th>\n",
       "      <th>V26</th>\n",
       "      <th>V27</th>\n",
       "      <th>V28</th>\n",
       "      <th>Amount</th>\n",
       "      <th>Class</th>\n",
       "    </tr>\n",
       "  </thead>\n",
       "  <tbody>\n",
       "    <tr>\n",
       "      <th>0</th>\n",
       "      <td>-6.677212</td>\n",
       "      <td>5.529299</td>\n",
       "      <td>-7.193275</td>\n",
       "      <td>6.081321</td>\n",
       "      <td>-1.636071</td>\n",
       "      <td>0.500610</td>\n",
       "      <td>-4.640770</td>\n",
       "      <td>-4.339840</td>\n",
       "      <td>-0.950036</td>\n",
       "      <td>0.566680</td>\n",
       "      <td>...</td>\n",
       "      <td>5.563301</td>\n",
       "      <td>-1.608272</td>\n",
       "      <td>0.965322</td>\n",
       "      <td>0.163718</td>\n",
       "      <td>0.047531</td>\n",
       "      <td>0.466165</td>\n",
       "      <td>0.278547</td>\n",
       "      <td>1.471988</td>\n",
       "      <td>105.89</td>\n",
       "      <td>1</td>\n",
       "    </tr>\n",
       "    <tr>\n",
       "      <th>1</th>\n",
       "      <td>1.378559</td>\n",
       "      <td>1.289381</td>\n",
       "      <td>-5.004247</td>\n",
       "      <td>1.411850</td>\n",
       "      <td>0.442581</td>\n",
       "      <td>-1.326536</td>\n",
       "      <td>-1.413170</td>\n",
       "      <td>0.248525</td>\n",
       "      <td>-1.127396</td>\n",
       "      <td>-3.232153</td>\n",
       "      <td>...</td>\n",
       "      <td>0.370612</td>\n",
       "      <td>0.028234</td>\n",
       "      <td>-0.145640</td>\n",
       "      <td>-0.081049</td>\n",
       "      <td>0.521875</td>\n",
       "      <td>0.739467</td>\n",
       "      <td>0.389152</td>\n",
       "      <td>0.186637</td>\n",
       "      <td>0.76</td>\n",
       "      <td>1</td>\n",
       "    </tr>\n",
       "    <tr>\n",
       "      <th>2</th>\n",
       "      <td>-4.446847</td>\n",
       "      <td>-0.014793</td>\n",
       "      <td>-5.126307</td>\n",
       "      <td>6.945130</td>\n",
       "      <td>5.269255</td>\n",
       "      <td>-4.297177</td>\n",
       "      <td>-2.591242</td>\n",
       "      <td>0.342671</td>\n",
       "      <td>-3.880663</td>\n",
       "      <td>-3.976525</td>\n",
       "      <td>...</td>\n",
       "      <td>0.247913</td>\n",
       "      <td>-0.049586</td>\n",
       "      <td>-0.226017</td>\n",
       "      <td>-0.401236</td>\n",
       "      <td>0.856124</td>\n",
       "      <td>0.661272</td>\n",
       "      <td>0.492560</td>\n",
       "      <td>0.971834</td>\n",
       "      <td>1.00</td>\n",
       "      <td>1</td>\n",
       "    </tr>\n",
       "    <tr>\n",
       "      <th>3</th>\n",
       "      <td>-1.309441</td>\n",
       "      <td>1.786495</td>\n",
       "      <td>-1.371070</td>\n",
       "      <td>1.214335</td>\n",
       "      <td>-0.336642</td>\n",
       "      <td>-1.390120</td>\n",
       "      <td>-1.709109</td>\n",
       "      <td>0.667748</td>\n",
       "      <td>-1.699809</td>\n",
       "      <td>-3.843911</td>\n",
       "      <td>...</td>\n",
       "      <td>0.533521</td>\n",
       "      <td>-0.022180</td>\n",
       "      <td>-0.299556</td>\n",
       "      <td>-0.226416</td>\n",
       "      <td>0.364360</td>\n",
       "      <td>-0.475102</td>\n",
       "      <td>0.571426</td>\n",
       "      <td>0.293426</td>\n",
       "      <td>1.00</td>\n",
       "      <td>1</td>\n",
       "    </tr>\n",
       "    <tr>\n",
       "      <th>4</th>\n",
       "      <td>0.206075</td>\n",
       "      <td>1.387360</td>\n",
       "      <td>-1.045287</td>\n",
       "      <td>4.228686</td>\n",
       "      <td>-1.647549</td>\n",
       "      <td>-0.180897</td>\n",
       "      <td>-2.943678</td>\n",
       "      <td>0.859156</td>\n",
       "      <td>-1.181743</td>\n",
       "      <td>-3.096504</td>\n",
       "      <td>...</td>\n",
       "      <td>0.469199</td>\n",
       "      <td>0.344930</td>\n",
       "      <td>-0.203799</td>\n",
       "      <td>0.376640</td>\n",
       "      <td>0.715485</td>\n",
       "      <td>0.226003</td>\n",
       "      <td>0.628545</td>\n",
       "      <td>0.319918</td>\n",
       "      <td>0.76</td>\n",
       "      <td>1</td>\n",
       "    </tr>\n",
       "  </tbody>\n",
       "</table>\n",
       "<p>5 rows × 30 columns</p>\n",
       "</div>"
      ],
      "text/plain": [
       "         V1        V2        V3        V4        V5        V6        V7  \\\n",
       "0 -6.677212  5.529299 -7.193275  6.081321 -1.636071  0.500610 -4.640770   \n",
       "1  1.378559  1.289381 -5.004247  1.411850  0.442581 -1.326536 -1.413170   \n",
       "2 -4.446847 -0.014793 -5.126307  6.945130  5.269255 -4.297177 -2.591242   \n",
       "3 -1.309441  1.786495 -1.371070  1.214335 -0.336642 -1.390120 -1.709109   \n",
       "4  0.206075  1.387360 -1.045287  4.228686 -1.647549 -0.180897 -2.943678   \n",
       "\n",
       "         V8        V9       V10  ...       V21       V22       V23       V24  \\\n",
       "0 -4.339840 -0.950036  0.566680  ...  5.563301 -1.608272  0.965322  0.163718   \n",
       "1  0.248525 -1.127396 -3.232153  ...  0.370612  0.028234 -0.145640 -0.081049   \n",
       "2  0.342671 -3.880663 -3.976525  ...  0.247913 -0.049586 -0.226017 -0.401236   \n",
       "3  0.667748 -1.699809 -3.843911  ...  0.533521 -0.022180 -0.299556 -0.226416   \n",
       "4  0.859156 -1.181743 -3.096504  ...  0.469199  0.344930 -0.203799  0.376640   \n",
       "\n",
       "        V25       V26       V27       V28  Amount  Class  \n",
       "0  0.047531  0.466165  0.278547  1.471988  105.89      1  \n",
       "1  0.521875  0.739467  0.389152  0.186637    0.76      1  \n",
       "2  0.856124  0.661272  0.492560  0.971834    1.00      1  \n",
       "3  0.364360 -0.475102  0.571426  0.293426    1.00      1  \n",
       "4  0.715485  0.226003  0.628545  0.319918    0.76      1  \n",
       "\n",
       "[5 rows x 30 columns]"
      ]
     },
     "execution_count": 2,
     "metadata": {},
     "output_type": "execute_result"
    }
   ],
   "source": [
    "import pandas as pd\n",
    "\n",
    "data = pd.read_csv(\"data/creditcard.csv\")\n",
    "\n",
    "data.head()"
   ]
  },
  {
   "cell_type": "markdown",
   "metadata": {},
   "source": [
    "ℹ️ Due to confidentiality issues, the original features have been preprocessed and renamed `V1` to `V28`. There is only one features which has not been transformed, `Amount` which is the transaction Amount. `Class` is the target and it takes value 1 in case of fraud and 0 otherwise."
   ]
  },
  {
   "cell_type": "markdown",
   "metadata": {},
   "source": [
    "# Base Logistic Regression"
   ]
  },
  {
   "cell_type": "markdown",
   "metadata": {},
   "source": [
    "👇 Check class balance."
   ]
  },
  {
   "cell_type": "code",
   "execution_count": 3,
   "metadata": {
    "tags": [
     "challengify"
    ]
   },
   "outputs": [
    {
     "data": {
      "text/plain": [
       "0    28432\n",
       "1       49\n",
       "Name: Class, dtype: int64"
      ]
     },
     "execution_count": 3,
     "metadata": {},
     "output_type": "execute_result"
    }
   ],
   "source": [
    "class_counts = data['Class'].value_counts()\n",
    "class_counts"
   ]
  },
  {
   "cell_type": "code",
   "execution_count": 4,
   "metadata": {},
   "outputs": [
    {
     "data": {
      "image/png": "[encoded data removed]",
      "text/plain": [
       "<Figure size 640x480 with 1 Axes>"
      ]
     },
     "metadata": {},
     "output_type": "display_data"
    }
   ],
   "source": [
    "sns.histplot(data['Amount'], bins=50, kde=True);"
   ]
  },
  {
   "cell_type": "code",
   "execution_count": 5,
   "metadata": {},
   "outputs": [
    {
     "name": "stderr",
     "output_type": "stream",
     "text": [
      "/Users/arieleamorim/.pyenv/versions/lewagon/lib/python3.10/site-packages/seaborn/_decorators.py:36: FutureWarning: Pass the following variable as a keyword arg: x. From version 0.12, the only valid positional argument will be `data`, and passing other arguments without an explicit keyword will result in an error or misinterpretation.\n",
      "  warnings.warn(\n"
     ]
    },
    {
     "data": {
      "image/png": "[encoded data removed]",
      "text/plain": [
       "<Figure size 640x480 with 1 Axes>"
      ]
     },
     "metadata": {},
     "output_type": "display_data"
    }
   ],
   "source": [
    "sns.boxplot(data['Amount']);"
   ]
  },
  {
   "cell_type": "markdown",
   "metadata": {},
   "source": [
    "👇 Evaluate a base `LogisticRegression` for Recall. Use model parameter `class_weight = 'balanced'` to ensure it deals with class imbalance."
   ]
  },
  {
   "cell_type": "code",
   "execution_count": 6,
   "metadata": {},
   "outputs": [],
   "source": [
    "from sklearn.linear_model import LogisticRegression\n",
    "from sklearn.model_selection import train_test_split  \n",
    "from sklearn.metrics import classification_report\n",
    "from sklearn.model_selection import cross_validate\n",
    "from sklearn.model_selection import cross_val_predict"
   ]
  },
  {
   "cell_type": "code",
   "execution_count": 7,
   "metadata": {},
   "outputs": [],
   "source": [
    "from sklearn.preprocessing import RobustScaler\n",
    "\n",
    "X=data.drop(columns='Class')       \n",
    "y= data['Class']\n",
    "\n",
    "# Instanciate Robust Scaler\n",
    "rb_scaler = RobustScaler() \n",
    "\n",
    "# Fit the scaler to the `GrLiveArea`\n",
    "X_scaled= pd.DataFrame(rb_scaler.fit_transform(X))"
   ]
  },
  {
   "cell_type": "code",
   "execution_count": 8,
   "metadata": {},
   "outputs": [
    {
     "data": {
      "text/plain": [
       "0.8800000000000001"
      ]
     },
     "execution_count": 8,
     "metadata": {},
     "output_type": "execute_result"
    }
   ],
   "source": [
    "log_cv_results = cross_validate(LogisticRegression(max_iter=1000, class_weight = 'balanced' ), X_scaled, y, cv=10, \n",
    "                            scoring=['recall'])\n",
    "\n",
    "log_cv_results['test_recall'].mean()"
   ]
  },
  {
   "cell_type": "raw",
   "metadata": {
    "tags": [
     "challengify"
    ]
   },
   "source": [
    "# Split the data into training and test sets\n",
    "X_train, X_test, y_train, y_test = train_test_split(X_scaled, y, test_size=0.3, random_state=42)\n",
    "\n",
    "# Create an instance of LogisticRegression with class_weight='balanced'\n",
    "model = LogisticRegression(class_weight='balanced')\n",
    "                   \n",
    "# Fit the model to the training data   \n",
    "model.fit(X_train, y_train)\n",
    "\n",
    "# Use the trained model to make predictions on the test data\n",
    "y_pred = model.predict(X_test)\n",
    "\n",
    "# Generate the classification report\n",
    "report = classification_report(y_test, y_pred)\n",
    "print(report)"
   ]
  },
  {
   "cell_type": "markdown",
   "metadata": {},
   "source": [
    "ℹ️ A default Logistic Regression model can't guarantee a 90% recall. Its decision threshold needs to be adjusted to reach such a score."
   ]
  },
  {
   "cell_type": "markdown",
   "metadata": {},
   "source": [
    "# Threshold adjustment"
   ]
  },
  {
   "cell_type": "code",
   "execution_count": 14,
   "metadata": {
    "tags": [
     "challengify"
    ]
   },
   "outputs": [
    {
     "data": {
      "text/html": [
       "<div>\n",
       "<style scoped>\n",
       "    .dataframe tbody tr th:only-of-type {\n",
       "        vertical-align: middle;\n",
       "    }\n",
       "\n",
       "    .dataframe tbody tr th {\n",
       "        vertical-align: top;\n",
       "    }\n",
       "\n",
       "    .dataframe thead th {\n",
       "        text-align: right;\n",
       "    }\n",
       "</style>\n",
       "<table border=\"1\" class=\"dataframe\">\n",
       "  <thead>\n",
       "    <tr style=\"text-align: right;\">\n",
       "      <th></th>\n",
       "      <th>recall</th>\n",
       "      <th>threshold</th>\n",
       "    </tr>\n",
       "  </thead>\n",
       "  <tbody>\n",
       "    <tr>\n",
       "      <th>0</th>\n",
       "      <td>1.000000</td>\n",
       "      <td>1.850670e-38</td>\n",
       "    </tr>\n",
       "    <tr>\n",
       "      <th>1</th>\n",
       "      <td>1.000000</td>\n",
       "      <td>2.505624e-36</td>\n",
       "    </tr>\n",
       "    <tr>\n",
       "      <th>2</th>\n",
       "      <td>1.000000</td>\n",
       "      <td>3.528004e-36</td>\n",
       "    </tr>\n",
       "    <tr>\n",
       "      <th>3</th>\n",
       "      <td>1.000000</td>\n",
       "      <td>6.013614e-33</td>\n",
       "    </tr>\n",
       "    <tr>\n",
       "      <th>4</th>\n",
       "      <td>1.000000</td>\n",
       "      <td>1.528247e-32</td>\n",
       "    </tr>\n",
       "    <tr>\n",
       "      <th>...</th>\n",
       "      <td>...</td>\n",
       "      <td>...</td>\n",
       "    </tr>\n",
       "    <tr>\n",
       "      <th>28420</th>\n",
       "      <td>0.285714</td>\n",
       "      <td>1.000000e+00</td>\n",
       "    </tr>\n",
       "    <tr>\n",
       "      <th>28421</th>\n",
       "      <td>0.265306</td>\n",
       "      <td>1.000000e+00</td>\n",
       "    </tr>\n",
       "    <tr>\n",
       "      <th>28422</th>\n",
       "      <td>0.244898</td>\n",
       "      <td>1.000000e+00</td>\n",
       "    </tr>\n",
       "    <tr>\n",
       "      <th>28423</th>\n",
       "      <td>0.224490</td>\n",
       "      <td>1.000000e+00</td>\n",
       "    </tr>\n",
       "    <tr>\n",
       "      <th>28424</th>\n",
       "      <td>0.204082</td>\n",
       "      <td>1.000000e+00</td>\n",
       "    </tr>\n",
       "  </tbody>\n",
       "</table>\n",
       "<p>28425 rows × 2 columns</p>\n",
       "</div>"
      ],
      "text/plain": [
       "         recall     threshold\n",
       "0      1.000000  1.850670e-38\n",
       "1      1.000000  2.505624e-36\n",
       "2      1.000000  3.528004e-36\n",
       "3      1.000000  6.013614e-33\n",
       "4      1.000000  1.528247e-32\n",
       "...         ...           ...\n",
       "28420  0.285714  1.000000e+00\n",
       "28421  0.265306  1.000000e+00\n",
       "28422  0.244898  1.000000e+00\n",
       "28423  0.224490  1.000000e+00\n",
       "28424  0.204082  1.000000e+00\n",
       "\n",
       "[28425 rows x 2 columns]"
      ]
     },
     "execution_count": 14,
     "metadata": {},
     "output_type": "execute_result"
    }
   ],
   "source": [
    "from sklearn.metrics import precision_recall_curve\n",
    "\n",
    "# Obtain the predicted values using cross-validation\n",
    "Class0, Class1 = cross_val_predict(LogisticRegression(max_iter=1000,class_weight = 'balanced'),\n",
    "                                                     X_scaled,y,\n",
    "                                                     method = \"predict_proba\").T\n",
    "\n",
    "\n",
    "# precision recall data\n",
    "precision, recall, threshold = precision_recall_curve(y,Class1)\n",
    "scores = pd.DataFrame({'recall':recall[:-1],'threshold':threshold, })\n",
    "scores"
   ]
  },
  {
   "cell_type": "code",
   "execution_count": 15,
   "metadata": {},
   "outputs": [
    {
     "data": {
      "text/plain": [
       "0.0005352696986237073"
      ]
     },
     "execution_count": 15,
     "metadata": {},
     "output_type": "execute_result"
    }
   ],
   "source": [
    "new_threshold= scores[scores['recall'] >= 0.9]['threshold'].max()\n",
    "new_threshold"
   ]
  },
  {
   "cell_type": "code",
   "execution_count": null,
   "metadata": {},
   "outputs": [],
   "source": [
    "The decision threshold that guarantees a 90% recall is 0.0005."
   ]
  },
  {
   "cell_type": "code",
   "execution_count": null,
   "metadata": {},
   "outputs": [],
   "source": []
  }
 ],
 "metadata": {
  "kernelspec": {
   "display_name": "Python 3 (ipykernel)",
   "language": "python",
   "name": "python3"
  },
  "language_info": {
   "codemirror_mode": {
    "name": "ipython",
    "version": 3
   },
   "file_extension": ".py",
   "mimetype": "text/x-python",
   "name": "python",
   "nbconvert_exporter": "python",
   "pygments_lexer": "ipython3",
   "version": "3.10.6"
  },
  "toc": {
   "base_numbering": 1,
   "nav_menu": {},
   "number_sections": true,
   "sideBar": true,
   "skip_h1_title": false,
   "title_cell": "Table of Contents",
   "title_sidebar": "Contents",
   "toc_cell": false,
   "toc_position": {},
   "toc_section_display": true,
   "toc_window_display": false
  }
 },
 "nbformat": 4,
 "nbformat_minor": 4
}
